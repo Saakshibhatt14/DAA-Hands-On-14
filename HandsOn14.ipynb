{
  "nbformat": 4,
  "nbformat_minor": 0,
  "metadata": {
    "colab": {
      "provenance": []
    },
    "kernelspec": {
      "name": "python3",
      "display_name": "Python 3"
    },
    "language_info": {
      "name": "python"
    }
  },
  "cells": [
    {
      "cell_type": "markdown",
      "source": [
        "Implement and test on examples from the book. Then upload your source code to GitHub. Do this for the following algorithms:\n",
        "\n",
        "1.  Dijkstra's algorithm"
      ],
      "metadata": {
        "id": "ITSBL7uR55P0"
      }
    },
    {
      "cell_type": "code",
      "execution_count": 2,
      "metadata": {
        "colab": {
          "base_uri": "https://localhost:8080/"
        },
        "id": "QL-dv27C5RBx",
        "outputId": "3b8c1e31-08ae-4484-eadf-b0077ccac138"
      },
      "outputs": [
        {
          "output_type": "stream",
          "name": "stdout",
          "text": [
            "Shortest distances from the source node s\n",
            "Node s: Distance 0\n",
            "Node t: Distance 3\n",
            "Node y: Distance 5\n",
            "Node x: Distance 9\n",
            "Node z: Distance 11\n"
          ]
        }
      ],
      "source": [
        "import heapq\n",
        "\n",
        "def dijkstraAlgorithmImp(graph, start):\n",
        "    # Initialize distances from start vertex to all other vertices\n",
        "    initial_distances = {node: float('inf') for node in graph}\n",
        "    initial_distances[start] = 0\n",
        "\n",
        "    # Priority queue to store the vertices going to get visited next\n",
        "    pq = [(0, start)]\n",
        "\n",
        "    while pq:\n",
        "        # Delete the vertex of the smallest distance from start\n",
        "        current_distance, current_vertex = heapq.heappop(pq)\n",
        "\n",
        "        # Visit each neighbor vertex from the current vertex\n",
        "        for neighbor, weight in graph[current_vertex]:\n",
        "            distance = current_distance + weight\n",
        "            if distance < initial_distances[neighbor]:\n",
        "                initial_distances[neighbor] = distance\n",
        "                heapq.heappush(pq, (distance, neighbor))\n",
        "\n",
        "    return initial_distances\n",
        "\n",
        "graph = {\n",
        "    's': [('t', 3), ('y', 5)],\n",
        "    't': [('y', 2), ('x', 6)],\n",
        "    'y': [('t', 1), ('x', 4), ('z', 6)],\n",
        "    'x': [('z', 2)],\n",
        "    'z': [('s', 3), ('x', 7)]\n",
        "}\n",
        "\n",
        "start_node = 's'\n",
        "shortest_distances = dijkstraAlgorithmImp(graph, start_node)\n",
        "print(\"Shortest distances from the source node\", start_node)\n",
        "for node, distance in shortest_distances.items():\n",
        "    print(f\"Node {node}: Distance {distance}\")\n"
      ]
    },
    {
      "cell_type": "markdown",
      "source": [
        "2. Bellman-Ford algorithm"
      ],
      "metadata": {
        "id": "HraE2zJo6Fo7"
      }
    },
    {
      "cell_type": "code",
      "source": [
        "def bellman_ford(graph, start):\n",
        "    # Initialize distances\n",
        "    dist = {node: float(\"inf\") for node in graph}\n",
        "    dist[start] = 0\n",
        "\n",
        "    # Relax edges |V| - 1 times\n",
        "    for _ in range(len(graph) - 1):\n",
        "        for u in graph:\n",
        "            for v, weight in graph[u]:\n",
        "                if dist[u] + weight < dist[v]:\n",
        "                    dist[v] = dist[u] + weight\n",
        "\n",
        "    # Check for negative weight cycles\n",
        "    for u in graph:\n",
        "        for v, weight in graph[u]:\n",
        "            if dist[u] + weight < dist[v]:\n",
        "                print(\"Graph contains negative weight cycle\")\n",
        "                return {}\n",
        "\n",
        "    return dist\n",
        "\n",
        "\n",
        "graph_bellmanFord = {\n",
        "    's': [('t', 3), ('y', 5)],\n",
        "    't': [('y', 2), ('x', 6)],\n",
        "    'y': [('t', 1), ('x', 4), ('z', 6)],\n",
        "    'x': [('z', 2)],\n",
        "    'z': [('s', 3), ('x', 7)]\n",
        "}\n",
        "\n",
        "start_node_bf = 's'\n",
        "dist_bf = bellman_ford(graph_bellmanFord, start_node_bf)\n",
        "\n",
        "# Print shortest distances\n",
        "if dist_bf:\n",
        "    print(f\"Shortest distances from {start_node_bf}:\")\n",
        "    for node, distance in dist_bf.items():\n",
        "        print(f\"Shortest path from {start_node_bf} to {node} is {distance}\")\n"
      ],
      "metadata": {
        "colab": {
          "base_uri": "https://localhost:8080/"
        },
        "id": "ImQiiqv76SIj",
        "outputId": "8139ccd3-70a4-44c6-c289-e0d8df640e68"
      },
      "execution_count": 3,
      "outputs": [
        {
          "output_type": "stream",
          "name": "stdout",
          "text": [
            "Shortest distances from s:\n",
            "Shortest path from s to s is 0\n",
            "Shortest path from s to t is 3\n",
            "Shortest path from s to y is 5\n",
            "Shortest path from s to x is 9\n",
            "Shortest path from s to z is 11\n"
          ]
        }
      ]
    },
    {
      "cell_type": "markdown",
      "source": [
        "3. Floyd-Warshall algorithm"
      ],
      "metadata": {
        "id": "SiAhxJKu6UgP"
      }
    },
    {
      "cell_type": "code",
      "source": [
        "def Floyd_Warshall(graph_dict):\n",
        "    # Convert the graph from dictionary of adjacency lists to an adjacency matrix\n",
        "    nodes = list(graph_dict.keys())\n",
        "    n = len(nodes)\n",
        "    node_index = {node: idx for idx, node in enumerate(nodes)}\n",
        "\n",
        "    # Initialize adjacency matrix with a large value (representing INF) and 0 on the diagonal\n",
        "    graph_matrix = [[1e7] * n for _ in range(n)]\n",
        "    for node in nodes:\n",
        "        idx = node_index[node]\n",
        "        graph_matrix[idx][idx] = 0\n",
        "        for neighbor, weight in graph_dict[node]:\n",
        "            graph_matrix[idx][node_index[neighbor]] = weight\n",
        "\n",
        "    # Floyd-Warshall Algorithm\n",
        "    for k in range(n):\n",
        "        for i in range(n):\n",
        "            for j in range(n):\n",
        "                graph_matrix[i][j] = min(graph_matrix[i][j], graph_matrix[i][k] + graph_matrix[k][j])\n",
        "\n",
        "    # Print the result\n",
        "    print_graph(graph_matrix, nodes)\n",
        "\n",
        "def print_graph(graph_matrix, nodes):\n",
        "    print(\"Shortest distances matrix:\")\n",
        "    for i, row in enumerate(graph_matrix):\n",
        "        for j, val in enumerate(row):\n",
        "            if val == 1e7:\n",
        "                print(f\"{'INF':>7}\", end=\" \")\n",
        "            else:\n",
        "                print(f\"{val:>7}\", end=\" \")\n",
        "        print(f\" <- {nodes[i]}\")\n",
        "\n",
        "\n",
        "graph = {\n",
        "    's': [('t', 3), ('y', 5)],\n",
        "    't': [('y', 2), ('x', 6)],\n",
        "    'y': [('t', 1), ('x', 4), ('z', 6)],\n",
        "    'x': [('z', 2)],\n",
        "    'z': [('s', 3), ('x', 7)]\n",
        "}\n",
        "\n",
        "Floyd_Warshall(graph)\n"
      ],
      "metadata": {
        "colab": {
          "base_uri": "https://localhost:8080/"
        },
        "id": "07KNhCpv6X-w",
        "outputId": "2c16bc50-5275-4611-c12a-94402daddbdd"
      },
      "execution_count": 4,
      "outputs": [
        {
          "output_type": "stream",
          "name": "stdout",
          "text": [
            "Shortest distances matrix:\n",
            "      0       3       5       9      11  <- s\n",
            "     11       0       2       6       8  <- t\n",
            "      9       1       0       4       6  <- y\n",
            "      5       8      10       0       2  <- x\n",
            "      3       6       8       7       0  <- z\n"
          ]
        }
      ]
    }
  ]
}